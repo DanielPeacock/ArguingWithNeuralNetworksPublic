{
 "cells": [
  {
   "cell_type": "code",
   "execution_count": 24,
   "metadata": {},
   "outputs": [],
   "source": [
    "import sys\n",
    "\n",
    "sys.path.append(\"../mlp_to_qbaf/Uncertainpy/src\")\n",
    "\n",
    "import uncertainpy.gradual as grad\n",
    "from graphviz import Digraph"
   ]
  },
  {
   "cell_type": "code",
   "execution_count": 25,
   "metadata": {},
   "outputs": [],
   "source": [
    "# Make a simple example QBAF model\n",
    "\n",
    "qbaf = grad.BAG()\n",
    "\n",
    "# Create arguments\n",
    "a = grad.Argument(\"A\", 1)\n",
    "b = grad.Argument(\"B\", 1)\n",
    "c = grad.Argument(\"C\", 0.5)\n",
    "d = grad.Argument(\"D\", 0)\n",
    "\n",
    "qbaf.add_attack(a, d)\n",
    "qbaf.add_attack(b, d)\n",
    "qbaf.add_support(c, d)\n"
   ]
  },
  {
   "cell_type": "code",
   "execution_count": 26,
   "metadata": {},
   "outputs": [],
   "source": [
    "QBAF_graph = Digraph()\n",
    "QBAF_graph.attr(rankdir=\"LR\")\n",
    "\n",
    "# Sort arguments by layer and neuron\n",
    "\n",
    "for arg in qbaf.arguments.values():\n",
    "    QBAF_graph.node(arg.name, label=f\"{arg.name}\\nBase Score: {arg.strength}\")\n",
    "\n",
    "for attack in qbaf.attacks:\n",
    "\n",
    "    QBAF_graph.edge(attack.attacker.name,\n",
    "                    attack.attacked.name,\n",
    "                    style=\"solid\",\n",
    "                    label=\"-\",\n",
    "                    )\n",
    "\n",
    "for support in qbaf.supports:\n",
    "\n",
    "    QBAF_graph.edge(support.supporter.name,\n",
    "                    support.supported.name,\n",
    "                    style=\"dashed\",\n",
    "                    label=\"+\",\n",
    "                    )\n",
    "\n",
    "\n",
    "QBAF_graph.render(\"Report Figures/small-example-qbaf\",\n",
    "                  format=\"png\",\n",
    "                  view=False,\n",
    "                  cleanup=True);"
   ]
  },
  {
   "cell_type": "code",
   "execution_count": null,
   "metadata": {},
   "outputs": [],
   "source": []
  }
 ],
 "metadata": {
  "kernelspec": {
   "display_name": ".venv",
   "language": "python",
   "name": "python3"
  },
  "language_info": {
   "codemirror_mode": {
    "name": "ipython",
    "version": 3
   },
   "file_extension": ".py",
   "mimetype": "text/x-python",
   "name": "python",
   "nbconvert_exporter": "python",
   "pygments_lexer": "ipython3",
   "version": "3.12.3"
  }
 },
 "nbformat": 4,
 "nbformat_minor": 2
}
